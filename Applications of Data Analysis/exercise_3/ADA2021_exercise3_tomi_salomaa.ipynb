{
  "nbformat": 4,
  "nbformat_minor": 0,
  "metadata": {
    "kernelspec": {
      "display_name": "Python 3",
      "language": "python",
      "name": "python3"
    },
    "language_info": {
      "codemirror_mode": {
        "name": "ipython",
        "version": 3
      },
      "file_extension": ".py",
      "mimetype": "text/x-python",
      "name": "python",
      "nbconvert_exporter": "python",
      "pygments_lexer": "ipython3",
      "version": "3.7.9"
    },
    "toc": {
      "base_numbering": 1,
      "nav_menu": {},
      "number_sections": false,
      "sideBar": true,
      "skip_h1_title": false,
      "title_cell": "Table of Contents",
      "title_sidebar": "Contents",
      "toc_cell": false,
      "toc_position": {},
      "toc_section_display": true,
      "toc_window_display": true
    },
    "varInspector": {
      "cols": {
        "lenName": 16,
        "lenType": 16,
        "lenVar": 40
      },
      "kernels_config": {
        "python": {
          "delete_cmd_postfix": "",
          "delete_cmd_prefix": "del ",
          "library": "var_list.py",
          "varRefreshCmd": "print(var_dic_list())"
        },
        "r": {
          "delete_cmd_postfix": ") ",
          "delete_cmd_prefix": "rm(",
          "library": "var_list.r",
          "varRefreshCmd": "cat(var_dic_list()) "
        }
      },
      "types_to_exclude": [
        "module",
        "function",
        "builtin_function_or_method",
        "instance",
        "_Feature"
      ],
      "window_display": false
    },
    "colab": {
      "name": "ADA2021_exercise3_tomi_salomaa.ipynb",
      "provenance": [],
      "collapsed_sections": []
    }
  },
  "cells": [
    {
      "cell_type": "markdown",
      "metadata": {
        "id": "8GECDneM5-e4"
      },
      "source": [
        "# Exercise 3 | TKO_2096 Applications of Data Analysis 2021\n",
        "## deadline: 22.2.2021, 23:59 pm\n",
        "\n",
        "Regarding any questions about this exercise, please contact course assistant Jonne Pohjankukka (jjepoh@utu.fi)\n",
        "\n",
        "********************************************\n",
        "\n",
        "Student name: Tomi Salomaa\n",
        "\n",
        "Student number: \n",
        "\n",
        "Student email: \n",
        "\n",
        "********************************************"
      ]
    },
    {
      "cell_type": "markdown",
      "metadata": {
        "id": "N-PCYT_c5-e9"
      },
      "source": [
        "## Water permeability prediction in forestry <br>\n",
        "\n",
        "In this task, the client wants you to estimate the spatial prediction performance of K-nearest neighbor regression model with K=7 (7NN), using spatial leave-one-out cross-validation (i.e. SKCV, with number of folds == number of data points). The client wants you to use the C-index as the performance measure.  \n",
        "\n",
        "In other words, the client wants you to answer the question: \"What happens to the prediction performance of water permeability using 7-nearest neighbor regression model, when the geographical distance between known data and unknown data increases?\".\n",
        "\n",
        "In this task, you have three data files available (with 1691 data points): \n",
        "\n",
        "- input.csv, contains the 75 predictor features. \n",
        "- output.csv, contains the water permebility values. \n",
        "- coordinates.csv, contains the corresponding geographical coordinate locations of the data points. The unit of the coordinates is metre, and you can use Euclidean distance to calculate distances between the coordinate points. \n",
        "\n",
        "Implement the following tasks to complete this exercise:\n",
        "\n",
        "********************************************\n",
        "\n",
        "#### 1. Z-score standardize the predictor features (input.csv). \n",
        "\n",
        "#### 2. Perform spatial leave-one-out cross-validation with 7NN model for the provided data set (refer to the lectures 3.1.3 and 3.1.4 for help). Estimate the water permeability prediction performance (using 7NN model and C-index) with the following distance parameter values: d = 0, 10, 20, ..., 200 (that is, 10 meter intervals from 0m to 200m). \n",
        "\n",
        "#### 3. When you have calculated the C-index performance measure for each value of d, visualize the results with the C-index (y-axis) as a function of d (x-axis).\n",
        "\n",
        "********************************************\n",
        "\n",
        "Your .ipynb-file must include the following: \n",
        "\n",
        "- Your own implementation of the spatial leave-one-out cross-validation for the current task. Remember to also take advantage of earlier exercises (e.g. C-index). For the 7-nearest neighbor and Euclidean distance calculation you can use third-party libraries (e.g. Scikit-learn) if you want.  \n",
        "\n",
        "\n",
        "- Plot of the graph C-index vs. distance parameter value. \n",
        "\n",
        "\n",
        "<br><br><br>\n",
        "-- START IMPLEMENTING YOUR EXERCISE AFTER THIS LINE --\n",
        "<br><br><br>"
      ]
    },
    {
      "cell_type": "markdown",
      "metadata": {
        "id": "LGvKOqQA5-e9"
      },
      "source": [
        "### Import necessary libraries"
      ]
    },
    {
      "cell_type": "code",
      "metadata": {
        "id": "L5-9B_N95-e-",
        "colab": {
          "resources": {
            "http://localhost:8080/nbextensions/google.colab/files.js": {
              "data": "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",
              "ok": true,
              "headers": [
                [
                  "content-type",
                  "application/javascript"
                ]
              ],
              "status": 200,
              "status_text": ""
            }
          },
          "base_uri": "https://localhost:8080/",
          "height": 140
        },
        "outputId": "3f141fd4-ca87-4b44-a3a3-dd0f12b36616"
      },
      "source": [
        "# In this cell, import all the libraries that you need. For example: \n",
        "import numpy as np\n",
        "import pandas as pd\n",
        "import math\n",
        "import matplotlib.pyplot as plt\n",
        "from scipy.spatial import distance\n",
        "from google.colab import files\n",
        "from sklearn.neighbors import KNeighborsRegressor\n",
        "\n",
        "uploaded = files.upload()"
      ],
      "execution_count": 1,
      "outputs": [
        {
          "output_type": "display_data",
          "data": {
            "text/html": [
              "\n",
              "     <input type=\"file\" id=\"files-abd4f3b7-73b4-4919-aadd-c3a69e7b57e2\" name=\"files[]\" multiple disabled\n",
              "        style=\"border:none\" />\n",
              "     <output id=\"result-abd4f3b7-73b4-4919-aadd-c3a69e7b57e2\">\n",
              "      Upload widget is only available when the cell has been executed in the\n",
              "      current browser session. Please rerun this cell to enable.\n",
              "      </output>\n",
              "      <script src=\"/nbextensions/google.colab/files.js\"></script> "
            ],
            "text/plain": [
              "<IPython.core.display.HTML object>"
            ]
          },
          "metadata": {
            "tags": []
          }
        },
        {
          "output_type": "stream",
          "text": [
            "Saving input.csv to input.csv\n",
            "Saving output.csv to output.csv\n",
            "Saving coordinates.csv to coordinates.csv\n"
          ],
          "name": "stdout"
        }
      ]
    },
    {
      "cell_type": "markdown",
      "metadata": {
        "id": "Ypu1mQlR5-e-"
      },
      "source": [
        "### Read in the datasets"
      ]
    },
    {
      "cell_type": "code",
      "metadata": {
        "id": "oUlvnXdx5-e-",
        "colab": {
          "base_uri": "https://localhost:8080/",
          "height": 0
        },
        "outputId": "5b4d1c46-aae6-4f4a-b2d5-99b82611933c"
      },
      "source": [
        "# In this cell, read the files input.csv, output.csv and coordinates.csv.\n",
        "# Print out the dataset dimesions (i.e. number of rows and columns).\n",
        "#\n",
        "# Note that the coordinates are in EUREF-TM35FIN format, so you \n",
        "# can use the Euclidean distance to calculate the distance between two coordinate points.\n",
        "\n",
        "coord_data = pd.read_csv('coordinates.csv',header=None)\n",
        "input_data = pd.read_csv('input.csv',header=None)\n",
        "output_data = pd.read_csv('output.csv',header=None)\n",
        "\n",
        "print('COORDINATES DATASET')\n",
        "print('-'*35)\n",
        "print('\\nShape:',coord_data.shape)\n",
        "print('\\nHas null values:',coord_data.isnull().values.any())\n",
        "print('\\nSample:')\n",
        "print(coord_data.sample(5))\n",
        "\n",
        "print('\\nINPUT DATASET')\n",
        "print('-'*35)\n",
        "print('\\nShape:',input_data.shape)\n",
        "print('\\nHas null values:',input_data.isnull().values.any())\n",
        "print('\\nSample:')\n",
        "print(input_data.sample(5))\n",
        "\n",
        "print('\\nOUTPUT DATASET')\n",
        "print('-'*35)\n",
        "print('\\nShape:',output_data.shape)\n",
        "print('\\nHas null values:',output_data.isnull().values.any())\n",
        "print('\\nSample:')\n",
        "print(output_data.sample(5))"
      ],
      "execution_count": 2,
      "outputs": [
        {
          "output_type": "stream",
          "text": [
            "COORDINATES DATASET\n",
            "-----------------------------------\n",
            "\n",
            "Shape: (1691, 2)\n",
            "\n",
            "Has null values: False\n",
            "\n",
            "Sample:\n",
            "             0          1\n",
            "283   465550.0  7529900.0\n",
            "1263  495140.0  7536500.0\n",
            "886   487040.0  7525500.0\n",
            "5     462200.0  7547400.0\n",
            "113   464550.0  7541100.0\n",
            "\n",
            "INPUT DATASET\n",
            "-----------------------------------\n",
            "\n",
            "Shape: (1691, 75)\n",
            "\n",
            "Has null values: False\n",
            "\n",
            "Sample:\n",
            "           0         1         2   ...        72        73        74\n",
            "948  0.450663  1.134635  0.758656  ... -1.826523  1.025800 -0.368280\n",
            "714 -0.503453 -0.422996  0.015343  ... -0.223620  1.019510 -0.788681\n",
            "633 -0.578496 -0.581564  0.210020  ...  1.273535  1.692548 -0.778514\n",
            "147 -0.857226 -0.832834  1.537365  ...  0.784819  0.635816 -0.027099\n",
            "377 -0.857226 -0.832834  0.634771  ...  0.072221  1.960925  0.599101\n",
            "\n",
            "[5 rows x 75 columns]\n",
            "\n",
            "OUTPUT DATASET\n",
            "-----------------------------------\n",
            "\n",
            "Shape: (1691, 1)\n",
            "\n",
            "Has null values: False\n",
            "\n",
            "Sample:\n",
            "           0\n",
            "651   5.9733\n",
            "124   6.3298\n",
            "990   6.5147\n",
            "247   7.0549\n",
            "1387  6.9690\n"
          ],
          "name": "stdout"
        }
      ]
    },
    {
      "cell_type": "markdown",
      "metadata": {
        "id": "Nv7GalP15-e_"
      },
      "source": [
        "### Standardization of the predictor features (input.csv)"
      ]
    },
    {
      "cell_type": "code",
      "metadata": {
        "id": "nkzqXpuF5-e_",
        "colab": {
          "base_uri": "https://localhost:8080/",
          "height": 0
        },
        "outputId": "d8e42464-b1bb-4aca-a327-6e71a50669ed"
      },
      "source": [
        "# Standardize the predictor features (input.csv) by removing the mean and scaling to unit variance. \n",
        "# In other words, z-score the predictor features. You are allowed to use third-party libraries for doing this. \n",
        "\n",
        "def df_z_standardizer(df):\n",
        "    standardized_df = df.copy()\n",
        "    for column in standardized_df.columns:\n",
        "        standardized_df[column] = (standardized_df[column] -\n",
        "                                   standardized_df[column].mean()) / standardized_df[column].std()\n",
        "    return standardized_df\n",
        "\n",
        "z_input = df_z_standardizer(input_data)\n",
        "print('Sample of z-standardized input dataset:\\n')\n",
        "print(z_input.sample(5))"
      ],
      "execution_count": 3,
      "outputs": [
        {
          "output_type": "stream",
          "text": [
            "Sample of z-standardized input dataset:\n",
            "\n",
            "            0         1         2   ...        72        73        74\n",
            "309  -0.856973 -0.832588  0.581505  ... -0.598490 -0.810661  1.070896\n",
            "1249 -0.599759 -0.719184 -0.869296  ... -0.790212 -0.718434 -0.332269\n",
            "1086  1.918790  1.392812 -0.993145  ... -1.688930 -0.783412  1.311616\n",
            "590  -0.781952 -0.771618 -1.577004  ... -0.766794 -0.754067 -2.164708\n",
            "1213  1.190018  1.340378 -1.010838  ...  0.026123 -0.768740 -1.022942\n",
            "\n",
            "[5 rows x 75 columns]\n"
          ],
          "name": "stdout"
        }
      ]
    },
    {
      "cell_type": "markdown",
      "metadata": {
        "id": "pzjbDcg35-e_"
      },
      "source": [
        "### Functions"
      ]
    },
    {
      "cell_type": "code",
      "metadata": {
        "id": "o6vOJhpi5-e_"
      },
      "source": [
        "# Include here all the functions (for example the C-index-function) that you need in order to implement the task.\r\n",
        "\r\n",
        "# Build a new dataframe with all the labels, features and coords\r\n",
        "data_x_y_c = pd.concat([output_data,z_input,coord_data],ignore_index=True,axis=1)\r\n",
        "\r\n",
        "# CINDEX\r\n",
        "def cindex(true, pred, regression=False,silent=False):\r\n",
        "  n = 0\r\n",
        "  n_total = 0\r\n",
        "  pairs = list()\r\n",
        "  neg_pairs = list()\r\n",
        "  pos_pairs = list()\r\n",
        "\r\n",
        "  # Create true,prediction -pairs\r\n",
        "  for i in range(len(true)):\r\n",
        "    pairs.append([true[i],pred[i]])\r\n",
        "  \r\n",
        "  if not regression:\r\n",
        "    # works for binary labels\r\n",
        "    for i in range(len(pairs)):\r\n",
        "      if pairs[i][0] != 1:\r\n",
        "        neg_pairs.append(pairs[i])\r\n",
        "      else:\r\n",
        "        pos_pairs.append(pairs[i])\r\n",
        "    for i in range(len(neg_pairs)):\r\n",
        "      for j in range(len(pos_pairs)):\r\n",
        "        test_one = neg_pairs[i][0]>pos_pairs[j][0]\r\n",
        "        test_two = neg_pairs[i][1]>pos_pairs[j][1]\r\n",
        "        test_three = neg_pairs[i][1]==pos_pairs[j][1]\r\n",
        "\r\n",
        "        if test_one == test_two:\r\n",
        "          n += 1\r\n",
        "          if test_three:\r\n",
        "            n -= 0.5\r\n",
        "        n_total += 1\r\n",
        "  else:\r\n",
        "    # this should apply to regression cases\r\n",
        "    for i in range(len(pairs)-1):\r\n",
        "      for j in range(i+1,len(pairs)):\r\n",
        "        if pairs[i][0] != pairs[j][0]:\r\n",
        "          test_one = pairs[i][0]<pairs[j][0]\r\n",
        "          test_two = pairs[i][1]<pairs[j][1]\r\n",
        "          test_three = pairs[i][1]==pairs[j][1]\r\n",
        "\r\n",
        "          if test_one == test_two:\r\n",
        "            n += 1\r\n",
        "            if test_three:\r\n",
        "              n -= 0.5\r\n",
        "          n_total += 1\r\n",
        "\r\n",
        "  cindx = n / n_total\r\n",
        "\r\n",
        "  if not silent:\r\n",
        "    print('CONCORDANCE INDEX RESULTS')\r\n",
        "    print('-'*35)\r\n",
        "    print('Total number of input pairs:',len(pairs))\r\n",
        "    print('N:',n)\r\n",
        "    print('N total:',n_total)\r\n",
        "    print('C-INDEX:',cindx)\r\n",
        "  \r\n",
        "  return cindx\r\n",
        "\r\n",
        "# Leave-One-Out Spatial K-fold Cross Validation\r\n",
        "#\r\n",
        "# Step 1: Loop the dataset for k (folds) and perform steps 2-4\r\n",
        "# Step 2: Choose a test point / set within fold and remove closest data points (determined by distance range).\r\n",
        "# Step 3: Build the model with the reduced training set (excludes the removed data points and the test point / set).\r\n",
        "# Step 4: Make predictions with the test point / set.\r\n",
        "# Step 5: Calculate mean prediction accuracy.\r\n",
        "# Step 6: Return mean prediction accuracy.\r\n",
        "def LOO_SKCV(dataset,dist,neighbours_n=7):\r\n",
        "\r\n",
        "  folds = list(dataset.values)\r\n",
        "  cindex_arr = list()\r\n",
        "  predictions = list()\r\n",
        "  true_labels = list()\r\n",
        "  knn = KNeighborsRegressor(n_neighbors = neighbours_n)\r\n",
        "\r\n",
        "  # Splitting folds and data -- in this case iterating the dataset\r\n",
        "  for i in range(len(folds)):\r\n",
        "    # Fit with all but the index\r\n",
        "    train_set_raw = list(folds)\r\n",
        "    train_set_picked = list()\r\n",
        "    test_set = train_set_raw.pop(i)\r\n",
        "\r\n",
        "    test_set_coords = np.array(([test_set[76],test_set[77]]))\r\n",
        "\r\n",
        "    for j in range(len(train_set_raw)):\r\n",
        "      train_set_coords = np.array(([train_set_raw[j][76],train_set_raw[j][77]]))\r\n",
        "      point_distance = np.linalg.norm(test_set_coords - train_set_coords)\r\n",
        "      if point_distance > dist:\r\n",
        "        train_set_picked.append(train_set_raw[j])\r\n",
        "\r\n",
        "\r\n",
        "    y_train = [arr[:1] for arr in train_set_picked]\r\n",
        "    x_train = [arr[1:76] for arr in train_set_picked]\r\n",
        "    \r\n",
        "    knn.fit(x_train, y_train)\r\n",
        "\r\n",
        "    # Test arrays\r\n",
        "    y_test = np.array([test_set[0]])\r\n",
        "    x_test = np.array(test_set[1:76])\r\n",
        "    true_labels.append(y_test)\r\n",
        "    \r\n",
        "    # Predict\r\n",
        "    pred = knn.predict(x_test.reshape(1,-1))\r\n",
        "    predictions.append(pred)\r\n",
        "\r\n",
        "  # Calculate mean CINDEX\r\n",
        "  acc_cindex = np.around(cindex(true_labels,predictions,True,True), decimals=5)\r\n",
        "\r\n",
        "  print('LOO_SKCV RESULTS')\r\n",
        "  print('-'*42)\r\n",
        "  print('CINDEX SCORE:',acc_cindex)\r\n",
        "  print('-'*42)\r\n",
        "\r\n",
        "  return acc_cindex"
      ],
      "execution_count": 7,
      "outputs": []
    },
    {
      "cell_type": "markdown",
      "metadata": {
        "id": "ZCCzx29M5-e_"
      },
      "source": [
        "### Results for spatial leave-one-out cross-validation with 7-nearest neighbor regression model"
      ]
    },
    {
      "cell_type": "code",
      "metadata": {
        "id": "SBOgzl8t5-fA",
        "colab": {
          "base_uri": "https://localhost:8080/",
          "height": 2454
        },
        "outputId": "0f66d8e9-c74d-4c3a-cd68-149b8ebcfe54"
      },
      "source": [
        "# In this cell, run your script for the Spatial leave-One-Out cross-validation \n",
        "# with 7-nearest neighbor regression model and visualize the results as \n",
        "# requested in the task assignment.\n",
        "cindex_results = list()\n",
        "used_distances = list()\n",
        "\n",
        "used_distance = 0\n",
        "\n",
        "while used_distance < 201:\n",
        "  print('MODEL PERFORMANCE WITH DISTANCE',used_distance)\n",
        "  print('Processing...')\n",
        "  c_result = LOO_SKCV(data_x_y_c,used_distance)\n",
        "  cindex_results.append(c_result)\n",
        "  used_distances.append(used_distance)\n",
        "  used_distance += 10\n",
        "\n",
        "plt.plot(used_distances,cindex_results)\n",
        "plt.xticks(np.arange(0,201,10))\n",
        "plt.title('C-index performance vs distance')\n",
        "plt.xlabel('Distance')\n",
        "plt.ylabel('CINDEX')\n",
        "fig = plt.figure() \n",
        "fig.set_figwidth(10)\n",
        "plt.show()"
      ],
      "execution_count": 8,
      "outputs": [
        {
          "output_type": "stream",
          "text": [
            "MODEL PERFORMANCE WITH DISTANCE 0\n",
            "Processing...\n",
            "LOO_SKCV RESULTS\n",
            "------------------------------------------\n",
            "CINDEX SCORE: 0.71498\n",
            "------------------------------------------\n",
            "MODEL PERFORMANCE WITH DISTANCE 10\n",
            "Processing...\n",
            "LOO_SKCV RESULTS\n",
            "------------------------------------------\n",
            "CINDEX SCORE: 0.70739\n",
            "------------------------------------------\n",
            "MODEL PERFORMANCE WITH DISTANCE 20\n",
            "Processing...\n",
            "LOO_SKCV RESULTS\n",
            "------------------------------------------\n",
            "CINDEX SCORE: 0.70611\n",
            "------------------------------------------\n",
            "MODEL PERFORMANCE WITH DISTANCE 30\n",
            "Processing...\n",
            "LOO_SKCV RESULTS\n",
            "------------------------------------------\n",
            "CINDEX SCORE: 0.70316\n",
            "------------------------------------------\n",
            "MODEL PERFORMANCE WITH DISTANCE 40\n",
            "Processing...\n",
            "LOO_SKCV RESULTS\n",
            "------------------------------------------\n",
            "CINDEX SCORE: 0.70039\n",
            "------------------------------------------\n",
            "MODEL PERFORMANCE WITH DISTANCE 50\n",
            "Processing...\n",
            "LOO_SKCV RESULTS\n",
            "------------------------------------------\n",
            "CINDEX SCORE: 0.69506\n",
            "------------------------------------------\n",
            "MODEL PERFORMANCE WITH DISTANCE 60\n",
            "Processing...\n",
            "LOO_SKCV RESULTS\n",
            "------------------------------------------\n",
            "CINDEX SCORE: 0.69149\n",
            "------------------------------------------\n",
            "MODEL PERFORMANCE WITH DISTANCE 70\n",
            "Processing...\n",
            "LOO_SKCV RESULTS\n",
            "------------------------------------------\n",
            "CINDEX SCORE: 0.6869\n",
            "------------------------------------------\n",
            "MODEL PERFORMANCE WITH DISTANCE 80\n",
            "Processing...\n",
            "LOO_SKCV RESULTS\n",
            "------------------------------------------\n",
            "CINDEX SCORE: 0.68438\n",
            "------------------------------------------\n",
            "MODEL PERFORMANCE WITH DISTANCE 90\n",
            "Processing...\n",
            "LOO_SKCV RESULTS\n",
            "------------------------------------------\n",
            "CINDEX SCORE: 0.68203\n",
            "------------------------------------------\n",
            "MODEL PERFORMANCE WITH DISTANCE 100\n",
            "Processing...\n",
            "LOO_SKCV RESULTS\n",
            "------------------------------------------\n",
            "CINDEX SCORE: 0.68126\n",
            "------------------------------------------\n",
            "MODEL PERFORMANCE WITH DISTANCE 110\n",
            "Processing...\n",
            "LOO_SKCV RESULTS\n",
            "------------------------------------------\n",
            "CINDEX SCORE: 0.64322\n",
            "------------------------------------------\n",
            "MODEL PERFORMANCE WITH DISTANCE 120\n",
            "Processing...\n",
            "LOO_SKCV RESULTS\n",
            "------------------------------------------\n",
            "CINDEX SCORE: 0.61578\n",
            "------------------------------------------\n",
            "MODEL PERFORMANCE WITH DISTANCE 130\n",
            "Processing...\n",
            "LOO_SKCV RESULTS\n",
            "------------------------------------------\n",
            "CINDEX SCORE: 0.60246\n",
            "------------------------------------------\n",
            "MODEL PERFORMANCE WITH DISTANCE 140\n",
            "Processing...\n",
            "LOO_SKCV RESULTS\n",
            "------------------------------------------\n",
            "CINDEX SCORE: 0.5991\n",
            "------------------------------------------\n",
            "MODEL PERFORMANCE WITH DISTANCE 150\n",
            "Processing...\n",
            "LOO_SKCV RESULTS\n",
            "------------------------------------------\n",
            "CINDEX SCORE: 0.59465\n",
            "------------------------------------------\n",
            "MODEL PERFORMANCE WITH DISTANCE 160\n",
            "Processing...\n",
            "LOO_SKCV RESULTS\n",
            "------------------------------------------\n",
            "CINDEX SCORE: 0.59483\n",
            "------------------------------------------\n",
            "MODEL PERFORMANCE WITH DISTANCE 170\n",
            "Processing...\n",
            "LOO_SKCV RESULTS\n",
            "------------------------------------------\n",
            "CINDEX SCORE: 0.59392\n",
            "------------------------------------------\n",
            "MODEL PERFORMANCE WITH DISTANCE 180\n",
            "Processing...\n",
            "LOO_SKCV RESULTS\n",
            "------------------------------------------\n",
            "CINDEX SCORE: 0.59284\n",
            "------------------------------------------\n",
            "MODEL PERFORMANCE WITH DISTANCE 190\n",
            "Processing...\n",
            "LOO_SKCV RESULTS\n",
            "------------------------------------------\n",
            "CINDEX SCORE: 0.59134\n",
            "------------------------------------------\n",
            "MODEL PERFORMANCE WITH DISTANCE 200\n",
            "Processing...\n",
            "LOO_SKCV RESULTS\n",
            "------------------------------------------\n",
            "CINDEX SCORE: 0.58936\n",
            "------------------------------------------\n"
          ],
          "name": "stdout"
        },
        {
          "output_type": "display_data",
          "data": {
            "image/png": "[encoded data removed]",
            "text/plain": [
              "<Figure size 432x288 with 1 Axes>"
            ]
          },
          "metadata": {
            "tags": [],
            "needs_background": "light"
          }
        },
        {
          "output_type": "display_data",
          "data": {
            "text/plain": [
              "<Figure size 720x288 with 0 Axes>"
            ]
          },
          "metadata": {
            "tags": []
          }
        }
      ]
    },
    {
      "cell_type": "markdown",
      "metadata": {
        "id": "2Jo5NpGQ5-fA"
      },
      "source": [
        "### Interpretation of the results"
      ]
    },
    {
      "cell_type": "code",
      "metadata": {
        "id": "EHhfwNrD0Uhn"
      },
      "source": [
        "# In this cell, give a brief commentary on the results, what happens to the prediction \r\n",
        "# performance as the prediction distance increases?"
      ],
      "execution_count": null,
      "outputs": []
    },
    {
      "cell_type": "markdown",
      "metadata": {
        "id": "iMRj3RcG0bk-"
      },
      "source": [
        "Overall the range of prediction accuracy ranges from ~0.71 to ~0.59.\r\n",
        "The model performs better when predicting with distances below 100 but then ends up decreasing relatively sharply as the distance grows from 100 to around 125. The performance keeps declining as the distance grows.\r\n",
        "\r\n",
        "The observations seem to be quite in sync with the lecture materials where the forestry machine example used demonstrated a similar pattern."
      ]
    }
  ]
}