{
  "nbformat": 4,
  "nbformat_minor": 0,
  "metadata": {
    "kernelspec": {
      "display_name": "Python 3",
      "language": "python",
      "name": "python3"
    },
    "language_info": {
      "codemirror_mode": {
        "name": "ipython",
        "version": 3
      },
      "file_extension": ".py",
      "mimetype": "text/x-python",
      "name": "python",
      "nbconvert_exporter": "python",
      "pygments_lexer": "ipython3",
      "version": "3.8.5"
    },
    "toc": {
      "base_numbering": 1,
      "nav_menu": {},
      "number_sections": false,
      "sideBar": true,
      "skip_h1_title": false,
      "title_cell": "Table of Contents",
      "title_sidebar": "Contents",
      "toc_cell": false,
      "toc_position": {},
      "toc_section_display": true,
      "toc_window_display": true
    },
    "varInspector": {
      "cols": {
        "lenName": 16,
        "lenType": 16,
        "lenVar": 40
      },
      "kernels_config": {
        "python": {
          "delete_cmd_postfix": "",
          "delete_cmd_prefix": "del ",
          "library": "var_list.py",
          "varRefreshCmd": "print(var_dic_list())"
        },
        "r": {
          "delete_cmd_postfix": ") ",
          "delete_cmd_prefix": "rm(",
          "library": "var_list.r",
          "varRefreshCmd": "cat(var_dic_list()) "
        }
      },
      "types_to_exclude": [
        "module",
        "function",
        "builtin_function_or_method",
        "instance",
        "_Feature"
      ],
      "window_display": false
    },
    "colab": {
      "name": "exercise-4.ipynb",
      "provenance": [],
      "collapsed_sections": [],
      "toc_visible": true
    }
  },
  "cells": [
    {
      "cell_type": "markdown",
      "metadata": {
        "id": "NgsmqgHGm04m"
      },
      "source": [
        "# TKO_2096 Applications of Data Analysis 2021\n",
        "## Exercise 4\n",
        "\n",
        "Complete the tasks given to you in the letter below. There are cells at the end of this notebook to which you are expected to write your code. Insert markdown cells as needed to describe your solution.\n",
        "\n",
        "The deadline of this exercise is **28.2.2021, 23:59 PM**. Please contact Juho Heimonen (juaheim@utu.fi) if you have any questions about this exercise.\n"
      ]
    },
    {
      "cell_type": "markdown",
      "metadata": {
        "id": "w3LlSBium04r"
      },
      "source": [
        "---\n",
        "\n",
        "Student name: Tomi Salomaa\n",
        "\n",
        "Student number: \n",
        "\n",
        "Student email: \n",
        "\n",
        "---\n"
      ]
    },
    {
      "cell_type": "markdown",
      "metadata": {
        "id": "XchUDpwvm04t"
      },
      "source": [
        "Dear Data Scientist,\n",
        "\n",
        "I have a task for you that concerns drug molecules and their targets. I have spent a lot of time in a laboratory to measure how strongly potential drug molecules bind to putative target molecules. I do not have enough resources to measure all possible drug-target pairs, so I would like to first predict their affinities and then measure only the most promising ones. I have already managed to create a model which I believe is good for this purpose. Its details are below.\n",
        "\n",
        "- algorithm: K-nearest neighbours regressor\n",
        "- parameters: K=20\n",
        "- training data: full data set\n",
        "\n",
        "The full data set is available as the files `input.data`, `output.data` and `pairs.data` for you to use. The first file contains the features of pairs, whereas the second contains their affinities. The third file contains the identifiers of the drug and target molecules of which the pairs are composed. The files are paired, i.e. the i<sup>*th*</sup> row in each file is about the same pair.\n",
        "\n",
        "I am not able to evaluate how well my model will perform when I will use it to predict the affinities of new drug-target pairs. I need you to evaluate the model for me. There are three distinct situations in which I want to use this model in the future.\n",
        "\n",
        "1. I did not have the resources to measure the affinities of all the known drug-target pairs in the laboratory, so I want to use the model to predict the affinities of the remaining pairs.\n",
        "2. I am confident that I will discover new potential drug molecules in the future, so I will want to use the model to predict their affinities to the currently known targets.\n",
        "3. Because new putative target molecules, too, will likely be identified in the future, I will also want to use the model to predict the affinities between the drug molecules I will discover and the target molecules somebody else will discover in the future.\n",
        "\n",
        "I need to get evaluation results from leave-one-out cross-validation with C-index. Please evaluate the generalisation performance of my model in the three situations and explain why your cross-validation methods are suitable for them.\n",
        "\n",
        "\n",
        "Yours sincerely, \\\n",
        "Bio Scientist\n",
        "\n",
        "\n",
        "PS. Follow all the general exercise guidelines stated in Moodle.\n",
        "\n",
        "---"
      ]
    },
    {
      "cell_type": "markdown",
      "metadata": {
        "id": "35ogm9NNm04v"
      },
      "source": [
        "#### Import libraries"
      ]
    },
    {
      "cell_type": "code",
      "metadata": {
        "id": "pQ7lgWpPm04w"
      },
      "source": [
        "# Import the libraries you need.\r\n",
        "import numpy as np\r\n",
        "import pandas as pd\r\n",
        "import math\r\n",
        "import matplotlib.pyplot as plt\r\n",
        "from scipy.spatial import distance\r\n",
        "from google.colab import files\r\n",
        "from sklearn.neighbors import KNeighborsRegressor\r\n",
        "from sklearn.preprocessing import StandardScaler"
      ],
      "execution_count": 1,
      "outputs": []
    },
    {
      "cell_type": "markdown",
      "metadata": {
        "id": "430PRZHEm04y"
      },
      "source": [
        "#### Load datasets"
      ]
    },
    {
      "cell_type": "code",
      "metadata": {
        "id": "QcVfsZhpYlvQ",
        "colab": {
          "resources": {
            "http://localhost:8080/nbextensions/google.colab/files.js": {
              "data": "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",
              "ok": true,
              "headers": [
                [
                  "content-type",
                  "application/javascript"
                ]
              ],
              "status": 200,
              "status_text": ""
            }
          },
          "base_uri": "https://localhost:8080/",
          "height": 144
        },
        "outputId": "32986b25-c245-4b0a-cd6b-896a279a1479"
      },
      "source": [
        "# Uploading for google colab environment\r\n",
        "uploaded = files.upload()"
      ],
      "execution_count": 2,
      "outputs": [
        {
          "output_type": "display_data",
          "data": {
            "text/html": [
              "\n",
              "     <input type=\"file\" id=\"files-8fc93b7a-8649-4d37-83a5-e664e8978d4c\" name=\"files[]\" multiple disabled\n",
              "        style=\"border:none\" />\n",
              "     <output id=\"result-8fc93b7a-8649-4d37-83a5-e664e8978d4c\">\n",
              "      Upload widget is only available when the cell has been executed in the\n",
              "      current browser session. Please rerun this cell to enable.\n",
              "      </output>\n",
              "      <script src=\"/nbextensions/google.colab/files.js\"></script> "
            ],
            "text/plain": [
              "<IPython.core.display.HTML object>"
            ]
          },
          "metadata": {
            "tags": []
          }
        },
        {
          "output_type": "stream",
          "text": [
            "Saving pairs.data to pairs.data\n",
            "Saving output.data to output.data\n",
            "Saving input.data to input.data\n"
          ],
          "name": "stdout"
        }
      ]
    },
    {
      "cell_type": "code",
      "metadata": {
        "id": "hNhMY0oXm04z"
      },
      "source": [
        "# Read the data files (input.data, output.data, pairs.data).\r\n",
        "# Using delimiter to assign separate values into columns.\r\n",
        "input_data = pd.read_csv('input.data',header=None,delimiter=' ')\r\n",
        "output_data = pd.read_csv('output.data',header=None,delimiter=' ')\r\n",
        "pairs_data = pd.read_csv('pairs.data',header=None,delimiter=' ')"
      ],
      "execution_count": 3,
      "outputs": []
    },
    {
      "cell_type": "code",
      "metadata": {
        "colab": {
          "base_uri": "https://localhost:8080/"
        },
        "id": "LQ98p5Lx6QPX",
        "outputId": "7e7e30d0-4ace-4a75-e0a2-b51703a4cff6"
      },
      "source": [
        "# Sneak peek to what's inside (aka searching for nulls and learning dimensions)\r\n",
        "print('*'*35)\r\n",
        "print('INPUT DATA INFO')\r\n",
        "print('*'*35)\r\n",
        "print(input_data.info())\r\n",
        "print('\\nSample:',input_data.head())\r\n",
        "print('\\n')\r\n",
        "print('*'*35)\r\n",
        "print('OUTPUT DATA INFO')\r\n",
        "print('*'*35)\r\n",
        "print(output_data.info())\r\n",
        "print('\\nSample:',output_data.head())\r\n",
        "print('\\n')\r\n",
        "print('*'*35)\r\n",
        "print('PAIRS DATA INFO')\r\n",
        "print('*'*35)\r\n",
        "print(pairs_data.info())\r\n",
        "print('\\nSample:',pairs_data.head())"
      ],
      "execution_count": 4,
      "outputs": [
        {
          "output_type": "stream",
          "text": [
            "***********************************\n",
            "INPUT DATA INFO\n",
            "***********************************\n",
            "<class 'pandas.core.frame.DataFrame'>\n",
            "RangeIndex: 1500 entries, 0 to 1499\n",
            "Columns: 2500 entries, 0 to 2499\n",
            "dtypes: float64(2500)\n",
            "memory usage: 28.6 MB\n",
            "None\n",
            "\n",
            "Sample:       0        1        2        3     ...     2496     2497     2498     2499\n",
            "0  6.53771  7.04273  7.30593  7.04480  ...  8.13150  8.13992  7.36155  7.98930\n",
            "1  4.26878  4.05945  4.40541  4.73575  ...  6.57285  8.38097  6.80756  7.12181\n",
            "2  7.24802  5.96468  7.02855  6.52784  ...  7.23766  6.75104  5.72958  6.73456\n",
            "3  3.00092  3.33087  3.57794  3.31246  ...  2.81599  2.74684  2.93389  2.76753\n",
            "4  4.34096  3.79832  5.67286  4.20168  ...  3.26003  2.70133  2.87879  2.64117\n",
            "\n",
            "[5 rows x 2500 columns]\n",
            "\n",
            "\n",
            "***********************************\n",
            "OUTPUT DATA INFO\n",
            "***********************************\n",
            "<class 'pandas.core.frame.DataFrame'>\n",
            "RangeIndex: 1500 entries, 0 to 1499\n",
            "Data columns (total 1 columns):\n",
            " #   Column  Non-Null Count  Dtype  \n",
            "---  ------  --------------  -----  \n",
            " 0   0       1500 non-null   float64\n",
            "dtypes: float64(1)\n",
            "memory usage: 11.8 KB\n",
            "None\n",
            "\n",
            "Sample:          0\n",
            "0  10000.0\n",
            "1  10000.0\n",
            "2  10000.0\n",
            "3  10000.0\n",
            "4    270.0\n",
            "\n",
            "\n",
            "***********************************\n",
            "PAIRS DATA INFO\n",
            "***********************************\n",
            "<class 'pandas.core.frame.DataFrame'>\n",
            "RangeIndex: 1500 entries, 0 to 1499\n",
            "Data columns (total 2 columns):\n",
            " #   Column  Non-Null Count  Dtype \n",
            "---  ------  --------------  ----- \n",
            " 0   0       1500 non-null   object\n",
            " 1   1       1500 non-null   object\n",
            "dtypes: object(2)\n",
            "memory usage: 23.6+ KB\n",
            "None\n",
            "\n",
            "Sample:      0     1\n",
            "0  D23  T194\n",
            "1   D9  T270\n",
            "2   D3   T47\n",
            "3  D49  T222\n",
            "4  D37   T28\n"
          ],
          "name": "stdout"
        }
      ]
    },
    {
      "cell_type": "code",
      "metadata": {
        "colab": {
          "base_uri": "https://localhost:8080/"
        },
        "id": "VyNbqk8zaqRL",
        "outputId": "ab1bb634-faf0-4d19-be7d-76fa369cbdfb"
      },
      "source": [
        "# Converting pandas dataframes to numpy arrays for future handling\r\n",
        "input_data_np = np.asarray(input_data.values)\r\n",
        "output_data_np = np.asarray(output_data.values)\r\n",
        "pairs_data_np = np.asarray(pairs_data.values)\r\n",
        "print('Input data array sample:\\n',input_data_np[:5])\r\n",
        "print('\\nOutput data array sample:\\n',output_data_np[:5])\r\n",
        "print('\\nPairs data array sample:\\n',pairs_data_np[:5])"
      ],
      "execution_count": 5,
      "outputs": [
        {
          "output_type": "stream",
          "text": [
            "Input data array sample:\n",
            " [[6.53771 7.04273 7.30593 ... 8.13992 7.36155 7.9893 ]\n",
            " [4.26878 4.05945 4.40541 ... 8.38097 6.80756 7.12181]\n",
            " [7.24802 5.96468 7.02855 ... 6.75104 5.72958 6.73456]\n",
            " [3.00092 3.33087 3.57794 ... 2.74684 2.93389 2.76753]\n",
            " [4.34096 3.79832 5.67286 ... 2.70133 2.87879 2.64117]]\n",
            "\n",
            "Output data array sample:\n",
            " [[10000.]\n",
            " [10000.]\n",
            " [10000.]\n",
            " [10000.]\n",
            " [  270.]]\n",
            "\n",
            "Pairs data array sample:\n",
            " [['D23' 'T194']\n",
            " ['D9' 'T270']\n",
            " ['D3' 'T47']\n",
            " ['D49' 'T222']\n",
            " ['D37' 'T28']]\n"
          ],
          "name": "stdout"
        }
      ]
    },
    {
      "cell_type": "markdown",
      "metadata": {
        "id": "dRVQUKpkm04z"
      },
      "source": [
        "#### Write functions"
      ]
    },
    {
      "cell_type": "code",
      "metadata": {
        "id": "PG5jlyV4m040"
      },
      "source": [
        "# Write the functions you need to perform the requested cross-validations.\r\n",
        "\r\n",
        "# Z-standardization using sklearn StandardScaler\r\n",
        "def z_standardizer(data_to_scale):\r\n",
        "  data_copy = data_to_scale\r\n",
        "  scaler = StandardScaler()\r\n",
        "  scaled = scaler.fit_transform(data_copy)\r\n",
        "  return scaled\r\n",
        "\r\n",
        "# Regression CINDEX\r\n",
        "def regression_cindex(true, pred, silent=False):\r\n",
        "  n = 0\r\n",
        "  n_total = 0\r\n",
        "  pairs = list()\r\n",
        "  neg_pairs = list()\r\n",
        "  pos_pairs = list()\r\n",
        "  # Create true,prediction -pairs\r\n",
        "  for i in range(len(true)):\r\n",
        "    pairs.append([true[i],pred[i]])\r\n",
        "  # Pair comparisons\r\n",
        "  for i in range(len(pairs)):\r\n",
        "    for j in range(i+1,len(pairs)):\r\n",
        "      if pairs[i][0] != pairs[j][0]:\r\n",
        "        test_one = pairs[i][0]<pairs[j][0]\r\n",
        "        test_two = pairs[i][1]<pairs[j][1]\r\n",
        "        test_three = pairs[i][1]==pairs[j][1]\r\n",
        "        n_total += 1\r\n",
        "        if test_one == test_two:\r\n",
        "          n += 1\r\n",
        "          if test_three:\r\n",
        "            n -= 0.5\r\n",
        "  # Calculate the final C-index score\r\n",
        "  cindx = n / n_total\r\n",
        "  if not silent:\r\n",
        "    print('CONCORDANCE INDEX RESULTS')\r\n",
        "    print('-'*35)\r\n",
        "    print('N:',n)\r\n",
        "    print('N total:',n_total)\r\n",
        "    print('C-INDEX:',cindx)\r\n",
        "  return cindx\r\n",
        "\r\n",
        "# Leave-One-Out CV\r\n",
        "# obs_type is either 'a','b','c' or 'd'\r\n",
        "def LOO_cross_validation(dataset_arr,neighbours_n=20,obs_type='a'):\r\n",
        "  folds = dataset_arr.copy()\r\n",
        "  predictions = []\r\n",
        "  true_labels = []\r\n",
        "  knn = KNeighborsRegressor(n_neighbors=neighbours_n)\r\n",
        "\r\n",
        "  # Splitting folds and data -- in this case iterating the dataset\r\n",
        "  for i in range(len(folds)):\r\n",
        "    process = (i+1)/len(folds)*100\r\n",
        "    if process%2 == 0:\r\n",
        "      print('Processing type',obs_type.upper(),'LOOCV...',process,'%')\r\n",
        "    train_set = folds.copy()\r\n",
        "    test_set = folds[i]\r\n",
        "    train_set = np.delete(train_set, i, 0)\r\n",
        "    pairs_test = test_set[:2]\r\n",
        "    \r\n",
        "    # For observation type A; performs regular LOO split\r\n",
        "    if obs_type == 'a':\r\n",
        "      y_train = [arr[2] for arr in train_set]\r\n",
        "      x_train = [arr[3:] for arr in train_set]\r\n",
        "\r\n",
        "    # For observation type B; disregards common 1st members from training pool\r\n",
        "    if obs_type == 'b':\r\n",
        "      temp_train_set = list()\r\n",
        "      for arr in train_set:\r\n",
        "        if arr[0] != pairs_test[0]:\r\n",
        "          temp_train_set.append(arr)\r\n",
        "      train_set = np.asarray(temp_train_set)\r\n",
        "      y_train = [arr[2] for arr in train_set]\r\n",
        "      x_train = [arr[3:] for arr in train_set]\r\n",
        "    \r\n",
        "    # For observation type C; disregards common 2nd members from training pool\r\n",
        "    if obs_type == 'c':\r\n",
        "      temp_train_set = list()\r\n",
        "      for arr in train_set:\r\n",
        "        if arr[1] != pairs_test[1]:\r\n",
        "          temp_train_set.append(arr)\r\n",
        "      train_set = np.asarray(temp_train_set)\r\n",
        "      y_train = [arr[2] for arr in train_set]\r\n",
        "      x_train = [arr[3:] for arr in train_set]\r\n",
        "\r\n",
        "    # For observation type D; disregards common 1st and 2nd members from training pool\r\n",
        "    if obs_type == 'd':\r\n",
        "      temp_train_set = list()\r\n",
        "      for arr in train_set:\r\n",
        "        first_mem = arr[0] != pairs_test[0]\r\n",
        "        second_mem = arr[1] != pairs_test[1]\r\n",
        "        if first_mem and second_mem:\r\n",
        "          temp_train_set.append(arr)\r\n",
        "      train_set = np.asarray(temp_train_set)\r\n",
        "      y_train = [arr[2] for arr in train_set]\r\n",
        "      x_train = [arr[3:] for arr in train_set]\r\n",
        "\r\n",
        "    knn.fit(x_train, y_train)\r\n",
        "\r\n",
        "    # Test with the index\r\n",
        "    y_test = [test_set[2]]\r\n",
        "    x_test = [test_set[3:]]\r\n",
        "    \r\n",
        "    # Gather predictions and true labels\r\n",
        "    pred = knn.predict(x_test)\r\n",
        "    \r\n",
        "    predictions.append(pred[0])\r\n",
        "    true_labels.append(y_test)\r\n",
        "  print('LOOCV for type',obs_type.upper(),'done!')\r\n",
        "  return regression_cindex(true_labels,predictions,True)"
      ],
      "execution_count": 17,
      "outputs": []
    },
    {
      "cell_type": "code",
      "metadata": {
        "id": "PYTHJiizqdpu",
        "colab": {
          "base_uri": "https://localhost:8080/"
        },
        "outputId": "9a92fd9d-77dd-4855-a49d-d1853df3607d"
      },
      "source": [
        "# Standardizing inputs and building a collective dataset\r\n",
        "z_input = z_standardizer(input_data_np)\r\n",
        "collective_data_np = np.concatenate((pairs_data_np,output_data_np,z_input),axis=1)\r\n",
        "print('\\nCollective pair sample:\\n',collective_data_np[:5])"
      ],
      "execution_count": 14,
      "outputs": [
        {
          "output_type": "stream",
          "text": [
            "\n",
            "Collective pair sample:\n",
            " [['D23' 'T194' 10000.0 ... 0.30551428018223586 0.12096092528634422\n",
            "  0.25245675687746383]\n",
            " ['D9' 'T270' 10000.0 ... 0.3422122349717393 0.04160484646761941\n",
            "  0.12508837546062354]\n",
            " ['D3' 'T47' 10000.0 ... 0.09406829201361683 -0.112809973014698\n",
            "  0.06823076822172576]\n",
            " ['D49' 'T222' 10000.0 ... -0.5155394680698923 -0.5132774832454258\n",
            "  -0.5142245801189451]\n",
            " ['D37' 'T28' 270.0 ... -0.5224680053960499 -0.5211702609903521\n",
            "  -0.5327772650788085]]\n"
          ],
          "name": "stdout"
        }
      ]
    },
    {
      "cell_type": "markdown",
      "metadata": {
        "id": "o2nwKakpm042"
      },
      "source": [
        "#### Run cross-validations"
      ]
    },
    {
      "cell_type": "code",
      "metadata": {
        "id": "vJCk9Wghm043",
        "colab": {
          "base_uri": "https://localhost:8080/"
        },
        "outputId": "33153ead-05a7-4614-cddd-bd5f7e2b96fb"
      },
      "source": [
        "# Run type A, B, C and D LOOCVs and assign results to variables\r\n",
        "ca_result = LOO_cross_validation(collective_data_np,20,'a')\r\n",
        "cb_result = LOO_cross_validation(collective_data_np,20,'b')\r\n",
        "cc_result = LOO_cross_validation(collective_data_np,20,'c')\r\n",
        "cd_result = LOO_cross_validation(collective_data_np,20,'d')"
      ],
      "execution_count": 18,
      "outputs": [
        {
          "output_type": "stream",
          "text": [
            "Processing type A LOOCV... 2.0 %\n",
            "Processing type A LOOCV... 4.0 %\n",
            "Processing type A LOOCV... 6.0 %\n",
            "Processing type A LOOCV... 8.0 %\n",
            "Processing type A LOOCV... 10.0 %\n",
            "Processing type A LOOCV... 12.0 %\n",
            "Processing type A LOOCV... 16.0 %\n",
            "Processing type A LOOCV... 18.0 %\n",
            "Processing type A LOOCV... 20.0 %\n",
            "Processing type A LOOCV... 22.0 %\n",
            "Processing type A LOOCV... 24.0 %\n",
            "Processing type A LOOCV... 26.0 %\n",
            "Processing type A LOOCV... 30.0 %\n",
            "Processing type A LOOCV... 32.0 %\n",
            "Processing type A LOOCV... 34.0 %\n",
            "Processing type A LOOCV... 36.0 %\n",
            "Processing type A LOOCV... 38.0 %\n",
            "Processing type A LOOCV... 40.0 %\n",
            "Processing type A LOOCV... 42.0 %\n",
            "Processing type A LOOCV... 44.0 %\n",
            "Processing type A LOOCV... 46.0 %\n",
            "Processing type A LOOCV... 48.0 %\n",
            "Processing type A LOOCV... 50.0 %\n",
            "Processing type A LOOCV... 52.0 %\n",
            "Processing type A LOOCV... 54.0 %\n",
            "Processing type A LOOCV... 60.0 %\n",
            "Processing type A LOOCV... 62.0 %\n",
            "Processing type A LOOCV... 64.0 %\n",
            "Processing type A LOOCV... 66.0 %\n",
            "Processing type A LOOCV... 68.0 %\n",
            "Processing type A LOOCV... 70.0 %\n",
            "Processing type A LOOCV... 72.0 %\n",
            "Processing type A LOOCV... 74.0 %\n",
            "Processing type A LOOCV... 76.0 %\n",
            "Processing type A LOOCV... 78.0 %\n",
            "Processing type A LOOCV... 80.0 %\n",
            "Processing type A LOOCV... 82.0 %\n",
            "Processing type A LOOCV... 84.0 %\n",
            "Processing type A LOOCV... 86.0 %\n",
            "Processing type A LOOCV... 88.0 %\n",
            "Processing type A LOOCV... 90.0 %\n",
            "Processing type A LOOCV... 92.0 %\n",
            "Processing type A LOOCV... 94.0 %\n",
            "Processing type A LOOCV... 96.0 %\n",
            "Processing type A LOOCV... 98.0 %\n",
            "Processing type A LOOCV... 100.0 %\n",
            "LOOCV for type A done!\n",
            "Processing type B LOOCV... 2.0 %\n",
            "Processing type B LOOCV... 4.0 %\n",
            "Processing type B LOOCV... 6.0 %\n",
            "Processing type B LOOCV... 8.0 %\n",
            "Processing type B LOOCV... 10.0 %\n",
            "Processing type B LOOCV... 12.0 %\n",
            "Processing type B LOOCV... 16.0 %\n",
            "Processing type B LOOCV... 18.0 %\n",
            "Processing type B LOOCV... 20.0 %\n",
            "Processing type B LOOCV... 22.0 %\n",
            "Processing type B LOOCV... 24.0 %\n",
            "Processing type B LOOCV... 26.0 %\n",
            "Processing type B LOOCV... 30.0 %\n",
            "Processing type B LOOCV... 32.0 %\n",
            "Processing type B LOOCV... 34.0 %\n",
            "Processing type B LOOCV... 36.0 %\n",
            "Processing type B LOOCV... 38.0 %\n",
            "Processing type B LOOCV... 40.0 %\n",
            "Processing type B LOOCV... 42.0 %\n",
            "Processing type B LOOCV... 44.0 %\n",
            "Processing type B LOOCV... 46.0 %\n",
            "Processing type B LOOCV... 48.0 %\n",
            "Processing type B LOOCV... 50.0 %\n",
            "Processing type B LOOCV... 52.0 %\n",
            "Processing type B LOOCV... 54.0 %\n",
            "Processing type B LOOCV... 60.0 %\n",
            "Processing type B LOOCV... 62.0 %\n",
            "Processing type B LOOCV... 64.0 %\n",
            "Processing type B LOOCV... 66.0 %\n",
            "Processing type B LOOCV... 68.0 %\n",
            "Processing type B LOOCV... 70.0 %\n",
            "Processing type B LOOCV... 72.0 %\n",
            "Processing type B LOOCV... 74.0 %\n",
            "Processing type B LOOCV... 76.0 %\n",
            "Processing type B LOOCV... 78.0 %\n",
            "Processing type B LOOCV... 80.0 %\n",
            "Processing type B LOOCV... 82.0 %\n",
            "Processing type B LOOCV... 84.0 %\n",
            "Processing type B LOOCV... 86.0 %\n",
            "Processing type B LOOCV... 88.0 %\n",
            "Processing type B LOOCV... 90.0 %\n",
            "Processing type B LOOCV... 92.0 %\n",
            "Processing type B LOOCV... 94.0 %\n",
            "Processing type B LOOCV... 96.0 %\n",
            "Processing type B LOOCV... 98.0 %\n",
            "Processing type B LOOCV... 100.0 %\n",
            "LOOCV for type B done!\n",
            "Processing type C LOOCV... 2.0 %\n",
            "Processing type C LOOCV... 4.0 %\n",
            "Processing type C LOOCV... 6.0 %\n",
            "Processing type C LOOCV... 8.0 %\n",
            "Processing type C LOOCV... 10.0 %\n",
            "Processing type C LOOCV... 12.0 %\n",
            "Processing type C LOOCV... 16.0 %\n",
            "Processing type C LOOCV... 18.0 %\n",
            "Processing type C LOOCV... 20.0 %\n",
            "Processing type C LOOCV... 22.0 %\n",
            "Processing type C LOOCV... 24.0 %\n",
            "Processing type C LOOCV... 26.0 %\n",
            "Processing type C LOOCV... 30.0 %\n",
            "Processing type C LOOCV... 32.0 %\n",
            "Processing type C LOOCV... 34.0 %\n",
            "Processing type C LOOCV... 36.0 %\n",
            "Processing type C LOOCV... 38.0 %\n",
            "Processing type C LOOCV... 40.0 %\n",
            "Processing type C LOOCV... 42.0 %\n",
            "Processing type C LOOCV... 44.0 %\n",
            "Processing type C LOOCV... 46.0 %\n",
            "Processing type C LOOCV... 48.0 %\n",
            "Processing type C LOOCV... 50.0 %\n",
            "Processing type C LOOCV... 52.0 %\n",
            "Processing type C LOOCV... 54.0 %\n",
            "Processing type C LOOCV... 60.0 %\n",
            "Processing type C LOOCV... 62.0 %\n",
            "Processing type C LOOCV... 64.0 %\n",
            "Processing type C LOOCV... 66.0 %\n",
            "Processing type C LOOCV... 68.0 %\n",
            "Processing type C LOOCV... 70.0 %\n",
            "Processing type C LOOCV... 72.0 %\n",
            "Processing type C LOOCV... 74.0 %\n",
            "Processing type C LOOCV... 76.0 %\n",
            "Processing type C LOOCV... 78.0 %\n",
            "Processing type C LOOCV... 80.0 %\n",
            "Processing type C LOOCV... 82.0 %\n",
            "Processing type C LOOCV... 84.0 %\n",
            "Processing type C LOOCV... 86.0 %\n",
            "Processing type C LOOCV... 88.0 %\n",
            "Processing type C LOOCV... 90.0 %\n",
            "Processing type C LOOCV... 92.0 %\n",
            "Processing type C LOOCV... 94.0 %\n",
            "Processing type C LOOCV... 96.0 %\n",
            "Processing type C LOOCV... 98.0 %\n",
            "Processing type C LOOCV... 100.0 %\n",
            "LOOCV for type C done!\n",
            "Processing type D LOOCV... 2.0 %\n",
            "Processing type D LOOCV... 4.0 %\n",
            "Processing type D LOOCV... 6.0 %\n",
            "Processing type D LOOCV... 8.0 %\n",
            "Processing type D LOOCV... 10.0 %\n",
            "Processing type D LOOCV... 12.0 %\n",
            "Processing type D LOOCV... 16.0 %\n",
            "Processing type D LOOCV... 18.0 %\n",
            "Processing type D LOOCV... 20.0 %\n",
            "Processing type D LOOCV... 22.0 %\n",
            "Processing type D LOOCV... 24.0 %\n",
            "Processing type D LOOCV... 26.0 %\n",
            "Processing type D LOOCV... 30.0 %\n",
            "Processing type D LOOCV... 32.0 %\n",
            "Processing type D LOOCV... 34.0 %\n",
            "Processing type D LOOCV... 36.0 %\n",
            "Processing type D LOOCV... 38.0 %\n",
            "Processing type D LOOCV... 40.0 %\n",
            "Processing type D LOOCV... 42.0 %\n",
            "Processing type D LOOCV... 44.0 %\n",
            "Processing type D LOOCV... 46.0 %\n",
            "Processing type D LOOCV... 48.0 %\n",
            "Processing type D LOOCV... 50.0 %\n",
            "Processing type D LOOCV... 52.0 %\n",
            "Processing type D LOOCV... 54.0 %\n",
            "Processing type D LOOCV... 60.0 %\n",
            "Processing type D LOOCV... 62.0 %\n",
            "Processing type D LOOCV... 64.0 %\n",
            "Processing type D LOOCV... 66.0 %\n",
            "Processing type D LOOCV... 68.0 %\n",
            "Processing type D LOOCV... 70.0 %\n",
            "Processing type D LOOCV... 72.0 %\n",
            "Processing type D LOOCV... 74.0 %\n",
            "Processing type D LOOCV... 76.0 %\n",
            "Processing type D LOOCV... 78.0 %\n",
            "Processing type D LOOCV... 80.0 %\n",
            "Processing type D LOOCV... 82.0 %\n",
            "Processing type D LOOCV... 84.0 %\n",
            "Processing type D LOOCV... 86.0 %\n",
            "Processing type D LOOCV... 88.0 %\n",
            "Processing type D LOOCV... 90.0 %\n",
            "Processing type D LOOCV... 92.0 %\n",
            "Processing type D LOOCV... 94.0 %\n",
            "Processing type D LOOCV... 96.0 %\n",
            "Processing type D LOOCV... 98.0 %\n",
            "Processing type D LOOCV... 100.0 %\n",
            "LOOCV for type D done!\n"
          ],
          "name": "stdout"
        }
      ]
    },
    {
      "cell_type": "code",
      "metadata": {
        "colab": {
          "base_uri": "https://localhost:8080/"
        },
        "id": "PoDrOCV3Kh28",
        "outputId": "ebec465d-7073-4639-aec2-16f1ba635728"
      },
      "source": [
        "# Presenting CINDEX results for each case\r\n",
        "print('*'*35)\r\n",
        "print('Situation 1 performance:',ca_result)\r\n",
        "print('*'*35)\r\n",
        "print('\\n')\r\n",
        "print('*'*35)\r\n",
        "print('Situation 2 performance:',cc_result)\r\n",
        "print('*'*35)\r\n",
        "print('\\n')\r\n",
        "print('*'*35)\r\n",
        "print('Situation 3 performance:',cd_result)\r\n",
        "print('*'*35)"
      ],
      "execution_count": 20,
      "outputs": [
        {
          "output_type": "stream",
          "text": [
            "***********************************\n",
            "Situation 1 performance: 0.7757329417221724\n",
            "***********************************\n",
            "\n",
            "\n",
            "***********************************\n",
            "Situation 2 performance: 0.7658794108965439\n",
            "***********************************\n",
            "\n",
            "\n",
            "***********************************\n",
            "Situation 3 performance: 0.6762937743725697\n",
            "***********************************\n"
          ],
          "name": "stdout"
        }
      ]
    },
    {
      "cell_type": "markdown",
      "metadata": {
        "id": "zJKbjIK1m043"
      },
      "source": [
        "#### Interpret results"
      ]
    },
    {
      "cell_type": "code",
      "metadata": {
        "id": "6Jz2JFDQm044"
      },
      "source": [
        "# Interpret the results you obtained and explain why your cross-validation methods work."
      ],
      "execution_count": null,
      "outputs": []
    },
    {
      "cell_type": "markdown",
      "metadata": {
        "id": "SajdHm_ef8gG"
      },
      "source": [
        "<p><b>Situation 1:</b> The performance estimation has been done by the means of a regular leave-one-out cross-validation (Type A). The dependencies of the remaining pairs are most likely similar to the dataset already in use and thus the model should perform relatively well when predicting their affinities by the means of regular LOOCV.</p>\r\n",
        "<p><b>Situation 2:</b> The performance estimation has been done by measuring the success when leaving out the training samples with a common second member (target molecule member) (Type C), since the second member represents the targets this method should well model the described situation task at hand.</p>\r\n",
        "<p><b>Situation 3:</b> The performance estimation has been done by leaving out both common pair members (Type D). This way the evaluation should measure how the model handles predicting new, outside the current dataset samples.</p>\r\n",
        "<p>Overall, based on the C-index performance measurement where the value of 0.5 would represent a performance no better than a random guess, the model performs best in situation 1, slightly worse in situation 2 and the worst in situation 3.</p>"
      ]
    }
  ]
}